{
 "cells": [
  {
   "cell_type": "code",
   "execution_count": 6,
   "id": "informed-inspector",
   "metadata": {},
   "outputs": [],
   "source": [
    "import numpy as np\n",
    "import matplotlib.pyplot as plt"
   ]
  },
  {
   "cell_type": "code",
   "execution_count": 4,
   "id": "graphic-magazine",
   "metadata": {},
   "outputs": [
    {
     "data": {
      "text/plain": [
       "5"
      ]
     },
     "execution_count": 4,
     "metadata": {},
     "output_type": "execute_result"
    }
   ],
   "source": [
    "# outcome of one coin flip\n",
    "np.random.randint(2)"
   ]
  },
  {
   "cell_type": "code",
   "execution_count": 7,
   "id": "south-expense",
   "metadata": {},
   "outputs": [
    {
     "data": {
      "text/plain": [
       "array([0, 0, 0, ..., 1, 1, 1])"
      ]
     },
     "execution_count": 7,
     "metadata": {},
     "output_type": "execute_result"
    }
   ],
   "source": [
    "# outcomes of ten thousand coin flips\n",
    "np.random.randint(2, size=10000)"
   ]
  },
  {
   "cell_type": "code",
   "execution_count": 8,
   "id": "assisted-amino",
   "metadata": {},
   "outputs": [
    {
     "data": {
      "text/plain": [
       "0.503"
      ]
     },
     "execution_count": 8,
     "metadata": {},
     "output_type": "execute_result"
    }
   ],
   "source": [
    "# mean outcome of ten thousand coin flips\n",
    "np.random.randint(2, size=10000).mean()"
   ]
  },
  {
   "cell_type": "code",
   "execution_count": 9,
   "id": "identical-highland",
   "metadata": {},
   "outputs": [
    {
     "data": {
      "text/plain": [
       "1"
      ]
     },
     "execution_count": 9,
     "metadata": {},
     "output_type": "execute_result"
    }
   ],
   "source": [
    "# outcome of one coin flip\n",
    "np.random.choice([0, 1])"
   ]
  },
  {
   "cell_type": "code",
   "execution_count": 10,
   "id": "packed-colleague",
   "metadata": {},
   "outputs": [
    {
     "data": {
      "text/plain": [
       "array([0, 0, 0, ..., 0, 0, 0])"
      ]
     },
     "execution_count": 10,
     "metadata": {},
     "output_type": "execute_result"
    }
   ],
   "source": [
    "# outcome of ten thousand coin flips\n",
    "np.random.choice([0, 1], size=10000)"
   ]
  },
  {
   "cell_type": "code",
   "execution_count": 11,
   "id": "corrected-wrapping",
   "metadata": {},
   "outputs": [
    {
     "data": {
      "text/plain": [
       "0.4998"
      ]
     },
     "execution_count": 11,
     "metadata": {},
     "output_type": "execute_result"
    }
   ],
   "source": [
    "# mean outcome of ten thousand coin flips\n",
    "np.random.choice([0, 1], size=10000).mean()"
   ]
  },
  {
   "cell_type": "code",
   "execution_count": 12,
   "id": "quick-library",
   "metadata": {},
   "outputs": [
    {
     "data": {
      "text/plain": [
       "array([0, 1, 0, ..., 0, 0, 0])"
      ]
     },
     "execution_count": 12,
     "metadata": {},
     "output_type": "execute_result"
    }
   ],
   "source": [
    "# outcomes of ten thousand biased coin flips\n",
    "np.random.choice([0, 1], size=10000, p=[0.8, 0.2])"
   ]
  },
  {
   "cell_type": "code",
   "execution_count": 14,
   "id": "becoming-multiple",
   "metadata": {},
   "outputs": [
    {
     "data": {
      "text/plain": [
       "0.2029"
      ]
     },
     "execution_count": 14,
     "metadata": {},
     "output_type": "execute_result"
    }
   ],
   "source": [
    "# mean outcome of ten thousand biased coin flips\n",
    "np.random.choice([0, 1], size=10000, p=[0.8, 0.2]).mean()"
   ]
  },
  {
   "cell_type": "code",
   "execution_count": 15,
   "id": "reverse-julian",
   "metadata": {},
   "outputs": [
    {
     "data": {
      "text/plain": [
       "0.249931"
      ]
     },
     "execution_count": 15,
     "metadata": {},
     "output_type": "execute_result"
    }
   ],
   "source": [
    "#Two fair coin flips produce exactly two heads\n",
    "# simulate 1 million tests of two fair coin flips\n",
    "tests = np.random.randint(2, size=(int(1e6), 2))\n",
    "\n",
    "# sums of all tests\n",
    "test_sums = tests.sum(axis=1)\n",
    "\n",
    "# proportion of tests that produced exactly two heads\n",
    "(test_sums == 0).mean()"
   ]
  },
  {
   "cell_type": "code",
   "execution_count": 23,
   "id": "optional-career",
   "metadata": {},
   "outputs": [
    {
     "data": {
      "text/plain": [
       "0.375228"
      ]
     },
     "execution_count": 23,
     "metadata": {},
     "output_type": "execute_result"
    }
   ],
   "source": [
    "#Three fair coin flips produce exactly one head\n",
    "# simulate 1 million tests of three fair coin flips\n",
    "tests = np.random.randint(2,size=(int(1e6), 3))\n",
    "\n",
    "# sums of all tests\n",
    "test_sums = tests.sum(axis=1)\n",
    "\n",
    "# proportion of tests that produced exactly one head\n",
    "(test_sums==2).mean()"
   ]
  },
  {
   "cell_type": "code",
   "execution_count": 25,
   "id": "bibliographic-triumph",
   "metadata": {},
   "outputs": [
    {
     "data": {
      "text/plain": [
       "0.287646"
      ]
     },
     "execution_count": 25,
     "metadata": {},
     "output_type": "execute_result"
    }
   ],
   "source": [
    "#Three biased coin flips with P(H) = 0.6 produce exactly one head¶\n",
    "# simulate 1 million tests of three biased coin flips\n",
    "# hint: use np.random.choice()\n",
    "tests = np.random.choice([0, 1], size=(int(1e6), 3), p=[0.6, 0.4])\n",
    "\n",
    "# sums of all tests\n",
    "test_sums = tests.sum(axis=1)\n",
    "\n",
    "# proportion of tests that produced exactly one head\n",
    "(test_sums==2).mean()"
   ]
  },
  {
   "cell_type": "code",
   "execution_count": 26,
   "id": "planned-valley",
   "metadata": {},
   "outputs": [
    {
     "data": {
      "text/plain": [
       "0.500063"
      ]
     },
     "execution_count": 26,
     "metadata": {},
     "output_type": "execute_result"
    }
   ],
   "source": [
    "# A die rolls an even number\n",
    "# simulate 1 million tests of one die roll\n",
    "tests = np.random.choice(np.arange(1, 7), size=int(1e6))\n",
    "\n",
    "# proportion of tests that produced an even number\n",
    "(tests % 2 == 0).mean()"
   ]
  },
  {
   "cell_type": "code",
   "execution_count": 27,
   "id": "prepared-witch",
   "metadata": {},
   "outputs": [
    {
     "data": {
      "text/plain": [
       "0.166522"
      ]
     },
     "execution_count": 27,
     "metadata": {},
     "output_type": "execute_result"
    }
   ],
   "source": [
    "# Two dice roll a double\n",
    "# simulate the first million die rolls\n",
    "first =  np.random.choice(np.arange(1, 7), size=int(1e6))\n",
    "\n",
    "# simulate the second million die rolls\n",
    "second =  np.random.choice(np.arange(1, 7), size=int(1e6))\n",
    "\n",
    "# proportion of tests where the 1st and 2nd die rolled the same number\n",
    "(first == second).mean()"
   ]
  },
  {
   "cell_type": "code",
   "execution_count": 28,
   "id": "timely-joining",
   "metadata": {},
   "outputs": [
    {
     "data": {
      "text/plain": [
       "7"
      ]
     },
     "execution_count": 28,
     "metadata": {},
     "output_type": "execute_result"
    }
   ],
   "source": [
    "# number of heads from 10 fair coin flips\n",
    "np.random.binomial(10, 0.5)"
   ]
  },
  {
   "cell_type": "code",
   "execution_count": 29,
   "id": "naval-professor",
   "metadata": {},
   "outputs": [
    {
     "data": {
      "text/plain": [
       "array([ 4,  6,  4,  5,  7,  4,  3,  5,  3,  6,  8,  4,  2, 10,  5,  7,  4,\n",
       "        4,  7,  6])"
      ]
     },
     "execution_count": 29,
     "metadata": {},
     "output_type": "execute_result"
    }
   ],
   "source": [
    "# results from 20 tests with 10 coin flips\n",
    "np.random.binomial(10, 0.5, 20)"
   ]
  },
  {
   "cell_type": "code",
   "execution_count": 32,
   "id": "billion-aruba",
   "metadata": {},
   "outputs": [
    {
     "data": {
      "text/plain": [
       "5.2"
      ]
     },
     "execution_count": 32,
     "metadata": {},
     "output_type": "execute_result"
    }
   ],
   "source": [
    "# mean number of heads from the 20 tests\n",
    "np.random.binomial(10, 0.5, 20).mean()"
   ]
  },
  {
   "cell_type": "code",
   "execution_count": 33,
   "id": "right-orlando",
   "metadata": {},
   "outputs": [
    {
     "data": {
      "text/plain": [
       "5.002288"
      ]
     },
     "execution_count": 33,
     "metadata": {},
     "output_type": "execute_result"
    }
   ],
   "source": [
    "# reflects the fairness of the coin more closely as # tests increases\n",
    "np.random.binomial(10, 0.5, 1000000).mean()"
   ]
  },
  {
   "cell_type": "code",
   "execution_count": 35,
   "id": "acquired-deployment",
   "metadata": {},
   "outputs": [],
   "source": [
    "import matplotlib.pyplot as plt"
   ]
  },
  {
   "cell_type": "code",
   "execution_count": 36,
   "id": "vertical-phenomenon",
   "metadata": {},
   "outputs": [
    {
     "data": {
      "image/png": "[encoded data removed]",
      "text/plain": [
       "<Figure size 432x288 with 1 Axes>"
      ]
     },
     "metadata": {
      "needs_background": "light"
     },
     "output_type": "display_data"
    }
   ],
   "source": [
    "plt.hist(np.random.binomial(10, 0.5, 1000000));"
   ]
  },
  {
   "cell_type": "code",
   "execution_count": 41,
   "id": "laden-creator",
   "metadata": {},
   "outputs": [
    {
     "data": {
      "image/png": "[encoded data removed]",
      "text/plain": [
       "<Figure size 432x288 with 1 Axes>"
      ]
     },
     "metadata": {
      "needs_background": "light"
     },
     "output_type": "display_data"
    }
   ],
   "source": [
    "# gets more narrow as number of flips increase per test\n",
    "plt.hist(np.random.binomial(100, 0.5, 1000000));"
   ]
  },
  {
   "cell_type": "code",
   "execution_count": 39,
   "id": "optical-environment",
   "metadata": {},
   "outputs": [
    {
     "data": {
      "image/png": "[encoded data removed]",
      "text/plain": [
       "<Figure size 432x288 with 1 Axes>"
      ]
     },
     "metadata": {
      "needs_background": "light"
     },
     "output_type": "display_data"
    }
   ],
   "source": [
    "# gets more narrow as number of flips increase per test\n",
    "plt.hist(np.random.binomial(10000, 0.5, 1000000));"
   ]
  },
  {
   "cell_type": "code",
   "execution_count": null,
   "id": "saving-lottery",
   "metadata": {},
   "outputs": [],
   "source": []
  }
 ],
 "metadata": {
  "kernelspec": {
   "display_name": "Python 3",
   "language": "python",
   "name": "python3"
  },
  "language_info": {
   "codemirror_mode": {
    "name": "ipython",
    "version": 3
   },
   "file_extension": ".py",
   "mimetype": "text/x-python",
   "name": "python",
   "nbconvert_exporter": "python",
   "pygments_lexer": "ipython3",
   "version": "3.7.3"
  }
 },
 "nbformat": 4,
 "nbformat_minor": 5
}
